{
  "nbformat": 4,
  "nbformat_minor": 0,
  "metadata": {
    "colab": {
      "name": "05. Percabangan",
      "provenance": [],
      "authorship_tag": "ABX9TyOh4hALJ/L2bo9BoXfR3xS9",
      "include_colab_link": true
    },
    "kernelspec": {
      "name": "python3",
      "display_name": "Python 3"
    },
    "language_info": {
      "name": "python"
    }
  },
  "cells": [
    {
      "cell_type": "markdown",
      "metadata": {
        "id": "view-in-github",
        "colab_type": "text"
      },
      "source": [
        "<a href=\"https://colab.research.google.com/github/jiorjioo/Basic-Python-Programming-for-Data-Science/blob/main/05_Percabangan.ipynb\" target=\"_parent\"><img src=\"https://colab.research.google.com/assets/colab-badge.svg\" alt=\"Open In Colab\"/></a>"
      ]
    },
    {
      "cell_type": "code",
      "metadata": {
        "id": "tAeGs8eaLKQo"
      },
      "source": [
        "Bismillah\n",
        "- Percabangan/ Struktur Pemilihan\n",
        "- IF Statements\n",
        "- IF ELSE Statements\n",
        "- IF ELIF ELSE Statements\n",
        "- Python Nested IF Statements\n",
        "- Latihan\n"
      ],
      "execution_count": null,
      "outputs": []
    },
    {
      "cell_type": "markdown",
      "metadata": {
        "id": "AmDEh12VLX2d"
      },
      "source": [
        "## **Percabangan/ Struktur Pemilihan**\n",
        "\n",
        "Pada bagian ini, kamu akan membuat keputusan pada bahasa pemrograman Python menggunakan struktur\n",
        "percabangan atau juga sering disebut IF ELSE Statement. Pengambilan keputusan dibutuhkan ketika kamu\n",
        "akan mengeksekusi suatu kode jika sebuah kondisi tertentu dipenuhi.\n",
        "\n",
        "Statement if .. elif ... else digunakan pada bahasa Python untuk pengambilan keputusan."
      ]
    },
    {
      "cell_type": "markdown",
      "metadata": {
        "id": "dzFvWu2dLjNz"
      },
      "source": [
        "### **IF Statements**"
      ]
    },
    {
      "cell_type": "code",
      "metadata": {
        "id": "svPEqa2lLmGE"
      },
      "source": [
        "syntax: \n",
        "\n",
        "  if test expression:\n",
        "    statement(s)\n"
      ],
      "execution_count": null,
      "outputs": []
    },
    {
      "cell_type": "markdown",
      "metadata": {
        "id": "Q7DqV9cHLrYf"
      },
      "source": [
        "Program akan mengevaluasi nilai dari test expression yang diberikan kemudian akan mengeksekusi\n",
        "statement(s) hanya jika test expression bernilai True ."
      ]
    },
    {
      "cell_type": "markdown",
      "metadata": {
        "id": "df8IqPCKLvF9"
      },
      "source": [
        "Jika test expression bernilai False , maka statement(s) tidak dieksekusi."
      ]
    },
    {
      "cell_type": "markdown",
      "metadata": {
        "id": "zMbhkwO_L0Do"
      },
      "source": [
        "Seperti telah disampaikan pada pertemuan sebelumnya bahwa bagian body dari statement if diindikasikan\n",
        "dengan indentasi. Statement-statement yang akan dijalankan jika test expression bernilai True ditulis\n",
        "pada baris selanjutnya dan menjorok ke dalam."
      ]
    },
    {
      "cell_type": "code",
      "metadata": {
        "id": "Ur0dmUtQL2F-"
      },
      "source": [
        "Sebagai catatan tambahan bahwa Python menginterpretasikan non-zero values sebagai True . None\n",
        "dan 0 diinterpretasikan sebagai False"
      ],
      "execution_count": null,
      "outputs": []
    },
    {
      "cell_type": "code",
      "metadata": {
        "colab": {
          "base_uri": "https://localhost:8080/"
        },
        "id": "qgIZqhmcL3jP",
        "outputId": "ac88b11e-de0a-488e-a93e-8203c98d45e7"
      },
      "source": [
        "# Contoh\n",
        "\n",
        "# Jika angka adalah bilangan positif maka print \"adalah bilangan positif\"\n",
        "\n",
        "angka = 3\n",
        "\n",
        "if angka > 0:\n",
        "  print(angka, \"adalah bilangan positif.\")\n",
        "print(\"Pernyataan ini selalu ditampilkan.\")\n",
        "\n",
        "angka = -1\n",
        "if angka > 0:\n",
        "  print(angka, \"adalah bilangan positif.\")\n",
        "print(\"Pernyataan ini juga selalu ditampilkan.\")"
      ],
      "execution_count": 1,
      "outputs": [
        {
          "output_type": "stream",
          "name": "stdout",
          "text": [
            "3 adalah bilangan positif.\n",
            "Pernyataan ini selalu ditampilkan.\n",
            "Pernyataan ini juga selalu ditampilkan.\n"
          ]
        }
      ]
    },
    {
      "cell_type": "markdown",
      "metadata": {
        "id": "4bW7djyhMEWE"
      },
      "source": [
        "Pada contoh di atas, angka > 0 adalah test expression . Bagian body dari if dieksekusi hanya jika hasil\n",
        "evaluasi dari test expression adalah bernilai True ."
      ]
    },
    {
      "cell_type": "markdown",
      "metadata": {
        "id": "aFQLfl66MHgw"
      },
      "source": [
        "Ketika variabel angka bernilai 3, test expression bernilai True sehingga statement di dalam bagian\n",
        "body dari if akan dieksekusi. Sedangkan ketika variabel angka bernilai -1, test expression bernilai\n",
        "False sehingga statement di dalam bagian body dari if tidak dieksekusi(di skip)."
      ]
    },
    {
      "cell_type": "markdown",
      "metadata": {
        "id": "-PO3-mgQMKKB"
      },
      "source": [
        "Statement print() di luar blok if (yang tidak terindentasi) akan selalu dieksekusi."
      ]
    },
    {
      "cell_type": "markdown",
      "metadata": {
        "id": "vfapGrxrML6j"
      },
      "source": [
        "### **IF ELSE Statements**"
      ]
    },
    {
      "cell_type": "code",
      "metadata": {
        "id": "qFhTD-yKMdBW"
      },
      "source": [
        "Syntax:\n",
        "if test expression:\n",
        "  Body of if\n",
        "else :\n",
        "  Body of else"
      ],
      "execution_count": null,
      "outputs": []
    },
    {
      "cell_type": "markdown",
      "metadata": {
        "id": "Uya9GNiYMgsL"
      },
      "source": [
        "Statement if ... else mengevaluasi test expression dan akan mengeksekusi bagian body of if\n",
        "hanya jika test expression bernilai True .\n",
        "\n",
        "Jika test expression bernilai False , maka bagian body of else akan dieksekusi. Indentasi juga\n",
        "digunakan pada bagian ini."
      ]
    },
    {
      "cell_type": "code",
      "metadata": {
        "colab": {
          "base_uri": "https://localhost:8080/"
        },
        "id": "8SLtTjFxM8UP",
        "outputId": "d178274c-1617-40fe-9cd0-ccdfc5c4693c"
      },
      "source": [
        "# Contoh\n",
        "\n",
        "# Program disusun untuk mengecek apakah angka merupakan bilangan positif atau negatif\n",
        "# dan menampilkan tulisan yang sesuai\n",
        "\n",
        "angka = 3\n",
        "\n",
        "# Kamu bisa mencoba angka-angka lainnya berikut:\n",
        "# angka = -5\n",
        "# angka = 0\n",
        "\n",
        "if angka >= 0:\n",
        "  print(\"Bilangan Positif atau Nol\")\n",
        "else:\n",
        "  print(\"Bilangan Negatif\")"
      ],
      "execution_count": 2,
      "outputs": [
        {
          "output_type": "stream",
          "name": "stdout",
          "text": [
            "Bilangan Positif atau Nol\n"
          ]
        }
      ]
    },
    {
      "cell_type": "markdown",
      "metadata": {
        "id": "Rkzb_-g2NCaX"
      },
      "source": [
        "Pada contoh di atas, ketika angka sama dengan 3, test expression bernilai True dan bagian body\n",
        "dari if dieksekusi sedangkan bagian body dari else diabaikan.\n",
        "\n",
        "Ketika angka sama dengan -5, test expression bernilai False dan bagian body dari if diabaikan\n",
        "sedangkan bagian body dari else dieksekusi.\n",
        "\n",
        "Jika angka sama dengan 0, test expression bernilai True dan bagian body dari if dieksekusi\n",
        "sedangkan bagian body dari else diabaikan."
      ]
    },
    {
      "cell_type": "code",
      "metadata": {
        "colab": {
          "base_uri": "https://localhost:8080/"
        },
        "id": "JcghP3XBNHoc",
        "outputId": "0e0ef606-9536-40bc-9fb6-814fa98a2fe6"
      },
      "source": [
        "# Program disusun untuk mengecek apakah dua buah angka sama atau tidak\n",
        "# dan menampilkan tulisan yang sesuai\n",
        "\n",
        "a = 5\n",
        "b = 5\n",
        "\n",
        "if a==b:\n",
        "  print(\"a dan b bernilai sama\")\n",
        "else:\n",
        "  print(\"a dan b bernilai berbeda\")\n",
        "  print(\"Halo\")"
      ],
      "execution_count": 3,
      "outputs": [
        {
          "output_type": "stream",
          "name": "stdout",
          "text": [
            "a dan b bernilai sama\n"
          ]
        }
      ]
    },
    {
      "cell_type": "code",
      "metadata": {
        "colab": {
          "base_uri": "https://localhost:8080/"
        },
        "id": "yWzGTDrgNNKl",
        "outputId": "42ec1de0-da6f-4fc6-e3a0-5399801b35ee"
      },
      "source": [
        "# Program disusun untuk mengecek apakah perbandingan dua buah angka\n",
        "# dan menampilkan tulisan yang sesuai\n",
        "# membaca dua angka\n",
        "\n",
        "bilangan1 = int(input(\"Masukkan bilangan pertama: \"))\n",
        "bilangan2 = int(input(\"Masukkan bilangan kedua: \"))\n",
        "\n",
        "# memilih bilangan yang lebih besar\n",
        "if bilangan1 > bilangan2:\n",
        "  bilangan_lebih_besar = bilangan1\n",
        "else:\n",
        "  bilangan_lebih_besar = bilangan2\n",
        "  \n",
        "# menampilkan hasil\n",
        "print(\"Bilangan yang lebih besar adalah:\", bilangan_lebih_besar)"
      ],
      "execution_count": 4,
      "outputs": [
        {
          "output_type": "stream",
          "name": "stdout",
          "text": [
            "Masukkan bilangan pertama: 4\n",
            "Masukkan bilangan kedua: 5\n",
            "Bilangan yang lebih besar adalah: 5\n"
          ]
        }
      ]
    },
    {
      "cell_type": "markdown",
      "metadata": {
        "id": "Zcm1tt2TNVV3"
      },
      "source": [
        "### **IF ELIF ELSE Statements**"
      ]
    },
    {
      "cell_type": "code",
      "metadata": {
        "id": "IgJinCFFNYqU"
      },
      "source": [
        "Syntax:\n",
        "\n",
        "if test expression:\n",
        "  Body of if\n",
        "elif test expression:\n",
        "  Body of elif\n",
        "else :\n",
        "  Body of else"
      ],
      "execution_count": null,
      "outputs": []
    },
    {
      "cell_type": "markdown",
      "metadata": {
        "id": "B_HJPmgDNdbi"
      },
      "source": [
        "elif adalah kependekan dari else if. Perintah ini bertugas untuk mengecek beberapa test expression ."
      ]
    },
    {
      "cell_type": "markdown",
      "metadata": {
        "id": "hDUxpYexNfl-"
      },
      "source": [
        "Jika kondisi untuk statement if bernilai False , maka akan mengecek ke kondisi elif selanjutnya dan\n",
        "begitu seterusnya. Jika semua kondisi pada statement if dan elif bernilai False maka, bagian body\n",
        "dari else akan dieksekusi."
      ]
    },
    {
      "cell_type": "markdown",
      "metadata": {
        "id": "3e-TuJpvNjOH"
      },
      "source": [
        "Hanya satu blok di antara if , elif , dan else yangakan dieksekusi berdasarkan kondisi yang sesuai.\n",
        "\n",
        "Pada sebuah if blok hanya diijinkan sebuah else blok namun dapat memiliki beberapa blok elif ."
      ]
    },
    {
      "cell_type": "code",
      "metadata": {
        "colab": {
          "base_uri": "https://localhost:8080/"
        },
        "id": "V7FOXxUDNmvr",
        "outputId": "259725ba-dd71-41dd-d22b-3f42c260724b"
      },
      "source": [
        "# Contoh\n",
        "\n",
        "# Program disusun untuk mengecek apakah angka merupakan bilangan positif, negatif atau nol\n",
        "# dan menampilkan tulisan yang sesuai\n",
        "\n",
        "angka = 3.4\n",
        "\n",
        "# Kamu bisa mencoba angka-angka lainnya berikut:\n",
        "# angka = 0\n",
        "# angka = -4.5\n",
        "\n",
        "if angka > 0:\n",
        "  print(\"Bilangan Positif\")\n",
        "elif num == 0:\n",
        "  print(\"Nol\")\n",
        "else:\n",
        "  print(\"Bilangan Negatif\")"
      ],
      "execution_count": 5,
      "outputs": [
        {
          "output_type": "stream",
          "name": "stdout",
          "text": [
            "Bilangan Positif\n"
          ]
        }
      ]
    },
    {
      "cell_type": "markdown",
      "metadata": {
        "id": "dayAg6AgNuls"
      },
      "source": [
        "Ketika variabel angka bernilai positif , maka Bilangan Positif ditampilkan.\n",
        "\n",
        "Jika angka sama dengan 0, maka Nol ditampilkan.\n",
        "\n",
        "Jika angka bernilai negatif , maka Bilangan Negatif ditampilkan."
      ]
    },
    {
      "cell_type": "code",
      "metadata": {
        "colab": {
          "base_uri": "https://localhost:8080/"
        },
        "id": "vVAMNspHNxGC",
        "outputId": "3d4b253b-2680-4d5c-c966-9af3b111ecbd"
      },
      "source": [
        "# Statement if\n",
        "x = 4\n",
        "if x % 2 == 0: # jika sisa bagi x dengan 2 sama dengan 0\n",
        "  print(\"x habis dibagi dua\") # statemen aksi lebih menjorok ke dalam\n",
        "\n",
        "# Statement if ... elif ... else\n",
        "x = 7\n",
        "if x % 2 == 0: # jika sisa bagi x dengan 2 sama dengan 0\n",
        "  print(\"x habis dibagi dua\")\n",
        "elif x % 3 ==0: # jika sisa bagi x dengan 3 sama dengan 0\n",
        "  print(\"x habis dibagi tiga\")\n",
        "elif x % 5 ==0: # jika sisa bagi x dengan 5 sama dengan 0\n",
        "  print(\"x habis dibagi lima\")\n",
        "else:\n",
        "  print(\"x tidak habis dibagi dua, tiga ataupun lima\")"
      ],
      "execution_count": 6,
      "outputs": [
        {
          "output_type": "stream",
          "name": "stdout",
          "text": [
            "x habis dibagi dua\n",
            "x tidak habis dibagi dua, tiga ataupun lima\n"
          ]
        }
      ]
    },
    {
      "cell_type": "markdown",
      "metadata": {
        "id": "cjOp_Y1qN58z"
      },
      "source": [
        "### **Python Nested IF Statements**\n",
        "\n",
        "Kita dapat membuat statement if...elif...else di dalam statement if...elif...else lainnya. Ini\n",
        "disebut sebagai nesting dalam computer programming.\n",
        "\n",
        "Sejumlah pernyataan ini dapat bersarang( nesting ) di dalam satu sama lain. Indentasi adalah satu-satunya\n",
        "cara untuk mengetahui tingkat bersarang. Mereka bisa membingungkan, jadi mereka harus dihindari kecuali\n",
        "jika perlu."
      ]
    },
    {
      "cell_type": "code",
      "metadata": {
        "colab": {
          "base_uri": "https://localhost:8080/"
        },
        "id": "k_nZEzaLOBYS",
        "outputId": "a88add1a-7df6-4be9-96bc-72838cfbba76"
      },
      "source": [
        "# Contoh\n",
        "\n",
        "# Program disusun untuk mengecek apakah angka merupakan bilangan positif, negatif atau nol\n",
        "# dan menampilkan tulisan yang sesuai\n",
        "\n",
        "angka = float(input(\"Masukkan angka: \"))\n",
        "if angka >= 0:\n",
        "  if angka == 0:\n",
        "    print(\"Nol\")\n",
        "  else:\n",
        "    print(\"Bilangan Positif\")\n",
        "else:\n",
        "  print(\"Bilangan Negatif\")"
      ],
      "execution_count": 9,
      "outputs": [
        {
          "output_type": "stream",
          "name": "stdout",
          "text": [
            "Masukkan angka: 8\n",
            "Bilangan Positif\n"
          ]
        }
      ]
    }
  ]
}