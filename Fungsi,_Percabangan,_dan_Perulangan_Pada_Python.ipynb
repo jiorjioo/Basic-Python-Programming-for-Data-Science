{
  "nbformat": 4,
  "nbformat_minor": 0,
  "metadata": {
    "kernelspec": {
      "display_name": "Python [conda env:pythonengineer_env]",
      "language": "python",
      "name": "conda-env-pythonengineer_env-py"
    },
    "language_info": {
      "codemirror_mode": {
        "name": "ipython",
        "version": 3
      },
      "file_extension": ".py",
      "mimetype": "text/x-python",
      "name": "python",
      "nbconvert_exporter": "python",
      "pygments_lexer": "ipython3",
      "version": "3.7.3"
    },
    "colab": {
      "name": "Fungsi, Percabangan, dan Perulangan Pada Python.ipynb",
      "provenance": [],
      "include_colab_link": true
    }
  },
  "cells": [
    {
      "cell_type": "markdown",
      "metadata": {
        "id": "view-in-github",
        "colab_type": "text"
      },
      "source": [
        "<a href=\"https://colab.research.google.com/github/jiorjioo/Basic-Python-Programming-for-Data-Science/blob/main/Fungsi%2C_Percabangan%2C_dan_Perulangan_Pada_Python.ipynb\" target=\"_parent\"><img src=\"https://colab.research.google.com/assets/colab-badge.svg\" alt=\"Open In Colab\"/></a>"
      ]
    },
    {
      "cell_type": "markdown",
      "metadata": {
        "id": "1ZXQ22-fYk8q"
      },
      "source": [
        "# Fungsi Pada Python\n",
        "\n",
        "Function(Fungsi) adalah sebuah blok statemen yang hanya akan dijalankan saat ia dipanggil.\n",
        "\n",
        "Fungsi len() untuk mengukur jumlah elemen dalam sebuah list dan fungsi print() untuk menampilkan pesan pada layar konsol merupakan contoh dari bentuk fungsi yang telah disediakan oleh bahasa pemrograman Python atau dengan kata lain built-in functions.\n",
        "\n",
        "Selain fungsi yang telah disediakan oleh Python, Python mengizinkan untuk mendeklarasikan fungsi dalam kode yang dituliskan yang dikenal dengan user defined function.\n",
        "\n",
        "```\n",
        "def nama_fungsi(argument):\n",
        "    statement_1\n",
        "    …\n",
        "    statement_n\n",
        "    return returned_value\n",
        "```\n",
        "* **nama_fungsi** adalah nama untuk fungsi yang Anda definisikan, memiliki aturan seperti penamaan variabel\n",
        "* **argument** adalah variabel masukan ke fungsi, bisa tanpa variabel, satu variabel atau lebih\n",
        "* **statement_1** … statement_n adalah algoritma yang telah Anda transfer dalam bahasa Python yang merupakan inti dari fungsi yang Anda definisikan. Seluruh statement adalah menjorok (indent) ke dalam seperti yang pernah Anda pelajari pada conditioning dan looping\n",
        "* **return_value** adalah variabel output dari fungsi Anda, bisa tanpa variabel, satu variabel atau lebih."
      ]
    },
    {
      "cell_type": "markdown",
      "metadata": {
        "id": "BMPdsL8KLjEj"
      },
      "source": [
        "# Argumen Fungsi Pada Python\n"
      ]
    },
    {
      "cell_type": "markdown",
      "metadata": {
        "id": "plVSrpqCLjEp"
      },
      "source": [
        "## Argumen dan Parameter\n",
        "* **Parameter** adalah variabel yang digunakan dalam deklarasi fungsi \n",
        "\n",
        "* **Argumen** adalah nilai yang diberikan saat pemanggilan fungsi."
      ]
    },
    {
      "cell_type": "code",
      "metadata": {
        "colab": {
          "base_uri": "https://localhost:8080/"
        },
        "id": "7oSdLcLzLjEp",
        "outputId": "49b4668d-28d6-4cd3-807b-1791b89002e8"
      },
      "source": [
        "def print_nama(nama):   # 'nama' adalah parameter\n",
        "    print(nama)\n",
        "\n",
        "print_nama('Caca') # 'Caca' adalah argumen"
      ],
      "execution_count": null,
      "outputs": [
        {
          "output_type": "stream",
          "text": [
            "Caca\n"
          ],
          "name": "stdout"
        }
      ]
    },
    {
      "cell_type": "markdown",
      "metadata": {
        "id": "ov40yOIILjEq"
      },
      "source": [
        "## Argumen posisi dan kata kunci\n",
        "\n",
        "Kita bisa menyatakan argumen sebagai argumen posisi atau kata kunci. Beberapa manfaat argumen kata kunci dapat berupa:\n",
        "- Kita dapat menyebut argumen dengan nama mereka untuk memperjelas apa yang mereka wakili\n",
        "- Kita dapat mengatur ulang argumen dengan cara yang membuatnya paling mudah dibaca"
      ]
    },
    {
      "cell_type": "code",
      "metadata": {
        "colab": {
          "base_uri": "https://localhost:8080/"
        },
        "id": "VuMErWDYLjEr",
        "outputId": "4cdc25ba-e603-4a55-adf6-770d18d18d28"
      },
      "source": [
        "def foo(a, b, c):\n",
        "    print(a, b, c)\n",
        "    \n",
        "# argumen posisi\n",
        "# argumen berdasarkan posisinya\n",
        "foo(1, 2, 3)\n",
        "\n",
        "# argumen berdasarkan kata kuncinya\n",
        "foo(a=1, b=2, c=3)\n",
        "foo(c=3, b=2, a=1) \n",
        "# Catatan: jika sudah diberi kunci maka urutan tidak menjadi penting\n",
        "\n",
        "# campuran antara argumen posisi dan argumen kata kunci\n",
        "foo(1, b=2, c=3)\n",
        "\n",
        "# Ini tidak diijinkan:\n",
        "# foo(1, b=2, 3) # argumen posisional setelah argumen kunci \n",
        "# foo(1, b=2, a=3) # terdapat dua nilai untuk argumen kunci 'a'"
      ],
      "execution_count": null,
      "outputs": [
        {
          "output_type": "stream",
          "text": [
            "1 2 3\n",
            "1 2 3\n",
            "1 2 3\n",
            "1 2 3\n"
          ],
          "name": "stdout"
        }
      ]
    },
    {
      "cell_type": "markdown",
      "metadata": {
        "id": "zIIOk0w4LjEr"
      },
      "source": [
        "## Argumen Default\n",
        "\n",
        "Fungsi dapat memiliki argumen default dengan nilai yang telah ditentukan sebelumnya. Argumen ini dapat ditinggalkan dan nilai default kemudian diteruskan ke fungsi, atau argumen dapat dirubah dengan nilai yang berbeda. Perhatikan bahwa argumen default harus ditentukan sebagai **parameter terakhir** dalam suatu fungsi."
      ]
    },
    {
      "cell_type": "code",
      "metadata": {
        "colab": {
          "base_uri": "https://localhost:8080/"
        },
        "id": "VKpkZ7u-LjEr",
        "outputId": "eda549d8-48bd-4b2a-8f91-a1ecc8d66cbd"
      },
      "source": [
        "# Argumen default\n",
        "def foo(a, b, c, d=4):\n",
        "    print(a, b, c, d)\n",
        "\n",
        "foo(1, 2, 3, 4)\n",
        "foo(1, b=21, c=4, d=100)\n",
        "\n",
        "# Argumen default harus diletakkan terakhir\n",
        "# def foo(a, b=2, c, d=4):\n",
        "#     print(a, b, c, d)"
      ],
      "execution_count": 2,
      "outputs": [
        {
          "output_type": "stream",
          "text": [
            "1 2 3 4\n",
            "1 21 4 100\n"
          ],
          "name": "stdout"
        }
      ]
    },
    {
      "cell_type": "markdown",
      "metadata": {
        "id": "l-0Bf7E8W_li"
      },
      "source": [
        "# Praktik Membuat Fungsi"
      ]
    },
    {
      "cell_type": "code",
      "metadata": {
        "colab": {
          "base_uri": "https://localhost:8080/"
        },
        "id": "BwHhULPNXp-8",
        "outputId": "24ff43dc-294c-4547-cf03-3099c113f4f1"
      },
      "source": [
        "x = 1\n",
        "y = 2\n",
        "x + y*9"
      ],
      "execution_count": null,
      "outputs": [
        {
          "output_type": "execute_result",
          "data": {
            "text/plain": [
              "19"
            ]
          },
          "metadata": {
            "tags": []
          },
          "execution_count": 6
        }
      ]
    },
    {
      "cell_type": "code",
      "metadata": {
        "id": "ndAN0nxisxdr",
        "colab": {
          "base_uri": "https://localhost:8080/"
        },
        "outputId": "44b52c31-c901-4126-ef0f-48cee7b2efe5"
      },
      "source": [
        "def penjumlahan(x, y): #input\n",
        "  a=x+y                #proses\n",
        "  return a             #output\n",
        "\n",
        "penjumlahan(1, 2)      #menggunakan fungsi"
      ],
      "execution_count": null,
      "outputs": [
        {
          "output_type": "execute_result",
          "data": {
            "text/plain": [
              "3"
            ]
          },
          "metadata": {
            "tags": []
          },
          "execution_count": 7
        }
      ]
    },
    {
      "cell_type": "markdown",
      "metadata": {
        "id": "rF6XWNuZYZLm"
      },
      "source": [
        "penjumlahan yang memungkinkan untuk tiga bilangan"
      ]
    },
    {
      "cell_type": "code",
      "metadata": {
        "id": "7ooAJXPeYcxJ",
        "colab": {
          "base_uri": "https://localhost:8080/",
          "height": 51
        },
        "outputId": "0aae8a7d-f95e-4fdc-f51f-5e552c6f7f73"
      },
      "source": [
        "def penjumlahan(x,y,z=None):\n",
        "    if (z==None):\n",
        "        return x+y\n",
        "    else:\n",
        "        return x+y+z\n",
        "\n",
        "print(penjumlahan(1, 2))\n",
        "print(penjumlahan(1, 2, 3))"
      ],
      "execution_count": null,
      "outputs": [
        {
          "output_type": "stream",
          "text": [
            "3\n",
            "6\n"
          ],
          "name": "stdout"
        }
      ]
    },
    {
      "cell_type": "markdown",
      "metadata": {
        "id": "HkPXRcnvYpc9"
      },
      "source": [
        "menyimpan hasil fungsi dalam variabel"
      ]
    },
    {
      "cell_type": "code",
      "metadata": {
        "id": "-nw5pjTZYycA",
        "colab": {
          "base_uri": "https://localhost:8080/",
          "height": 34
        },
        "outputId": "0b5761b1-54f5-437c-d803-80abb1b2e19d"
      },
      "source": [
        "def penjumlahan(x,y):\n",
        "    return x+y\n",
        "\n",
        "a = penjumlahan\n",
        "a(1,2)"
      ],
      "execution_count": null,
      "outputs": [
        {
          "output_type": "execute_result",
          "data": {
            "text/plain": [
              "3"
            ]
          },
          "metadata": {
            "tags": []
          },
          "execution_count": 51
        }
      ]
    },
    {
      "cell_type": "markdown",
      "metadata": {
        "id": "fzmTUMbhpGLC"
      },
      "source": [
        "Saatnya kamu mencoba membuat fungsimu sendiri!"
      ]
    },
    {
      "cell_type": "code",
      "metadata": {
        "id": "qS_JvleIpJ6K",
        "colab": {
          "base_uri": "https://localhost:8080/"
        },
        "outputId": "80c3aaa9-8614-4dcd-d5e9-5f10f3faafaf"
      },
      "source": [
        "def hitung(a,b,c):\n",
        "  print(\"hasil hitungan (a.c+b-c:a) dengan bil. a= \" + str(a) +\", bil. b= \" + str(b) + \", bil. c= \" + str(c) + \": \" )\n",
        "  return a*c+b-c/a\n",
        "\n",
        "hitung(5,4,3)"
      ],
      "execution_count": 10,
      "outputs": [
        {
          "output_type": "stream",
          "text": [
            "hasil hitungan (a.c+b-c:a) dengan bil. a= 5, bil. b= 4, bil. c= 3: \n"
          ],
          "name": "stdout"
        },
        {
          "output_type": "execute_result",
          "data": {
            "text/plain": [
              "18.4"
            ]
          },
          "metadata": {
            "tags": []
          },
          "execution_count": 10
        }
      ]
    },
    {
      "cell_type": "markdown",
      "metadata": {
        "id": "jEKjXonWtpPv"
      },
      "source": [
        "# **Percabangan/ Struktur Pemilihan**"
      ]
    },
    {
      "cell_type": "markdown",
      "metadata": {
        "id": "7n3cSTUBY-P5"
      },
      "source": [
        "Berbeda dengan bahasa pemrograman lainnya, Python hanya memiliki satu statement untuk melakukan proses pemilihan, yaitu dengan menggunakan if. Untuk mempermudah pembahasan tentang statement if, pembahasan akan dibagi menjadi tiga kelompok :\n",
        "\n",
        " - Statement if untuk satu kasus\n",
        " - Statement if untuk dua kasus\n",
        " - Statement if untuk tiga kasus"
      ]
    },
    {
      "cell_type": "markdown",
      "metadata": {
        "id": "GezBRujRdL0V"
      },
      "source": [
        "**Statement if untuk satu kasus**\n",
        "\n",
        "Bentuk umum penggunaan perintah if untuk satu kasus dalam Python adalah :\n",
        "\n",
        "```python\n",
        "if kondisi:\n",
        "    statement1\n",
        "    statement2\n",
        "    ...\n",
        "    \n",
        "```\n",
        "Pada bentuk diatas, statement1, statement2 dan seterusnya hanya akan dieksekusi jika kondisi yang didefinisikan dalam perintah If terpenuhi (bernilai True). Jika kondisi bernilai False, statement tersebut akan diabaikan oleh program.\n",
        "\n",
        "Perhatikan contoh berikut : "
      ]
    },
    {
      "cell_type": "code",
      "metadata": {
        "id": "9qGcl82qtsCc",
        "colab": {
          "base_uri": "https://localhost:8080/",
          "height": 68
        },
        "outputId": "a09e0455-cf06-44ed-ee7a-d6527e51872b"
      },
      "source": [
        "a = 6\n",
        "b = 6\n",
        "\n",
        "if a==b:\n",
        "    print(\"terkesekusi\")\n",
        "    print(\"Tes\")\n",
        "    \n",
        "print(\"Halo\")"
      ],
      "execution_count": null,
      "outputs": [
        {
          "output_type": "stream",
          "text": [
            "terkesekusi\n",
            "Tes\n",
            "Halo\n"
          ],
          "name": "stdout"
        }
      ]
    },
    {
      "cell_type": "markdown",
      "metadata": {
        "id": "ZzzN6U1fdQ6A"
      },
      "source": [
        "**Statement if untuk dua kasus**\n",
        "\n",
        "Untuk pemilihan yang mengandung dua kasus, bentuk umum yang digunakan adalah : \n",
        "\n",
        "```python\n",
        "if kondisi :\n",
        "    statement1\n",
        "    statement2\n",
        "    ...\n",
        "else \n",
        "    statement_alternatif1\n",
        "    statement_alternatif2\n",
        "    ...\n",
        "```\n",
        "\n",
        "Pada bentuk ini, jika kondisi bernilai True makan statement selanjutnya yang akan dieksekusi oleh program adalah statement1, stetement 2 dan seterusnya. Tapi jika kondisi bernilai False, maka program akan mengeksekusi statement yang berada pada bagian else, yaitu statement_alternatif1, statement_alternatif2 dan seterusnya. \n",
        "\n",
        "Perhatikan contoh dibawah :"
      ]
    },
    {
      "cell_type": "code",
      "metadata": {
        "id": "MLFpuhyuttwQ",
        "colab": {
          "base_uri": "https://localhost:8080/",
          "height": 34
        },
        "outputId": "c8a7caf8-393a-4913-f70f-72e230dfcdd2"
      },
      "source": [
        "a = 5\n",
        "b = 5\n",
        "\n",
        "if a==b:\n",
        "    print(\"a dan b bernilai sama\")\n",
        "else:\n",
        "    print(\"a dan b bernilai berbeda\")\n",
        "    print(\"Halo\")"
      ],
      "execution_count": null,
      "outputs": [
        {
          "output_type": "stream",
          "text": [
            "a dan b bernilai sama\n"
          ],
          "name": "stdout"
        }
      ]
    },
    {
      "cell_type": "code",
      "metadata": {
        "id": "wNY6NBgvdVqS",
        "colab": {
          "base_uri": "https://localhost:8080/",
          "height": 68
        },
        "outputId": "21b61961-2fd9-4d0c-f889-808eb4a62bac"
      },
      "source": [
        "# membaca dua angka\n",
        "bilangan1 = int(input(\"Masukkan bilangan pertama: \"))\n",
        "bilangan2 = int(input(\"Masukkan bilangan kedua: \"))\n",
        "\n",
        "# memilih bilangan yang lebih besar\n",
        "if bilangan1 > bilangan2:\n",
        "    bilangan_lebih_besar = bilangan1\n",
        "else:\n",
        "    bilangan_lebih_besar = bilangan2\n",
        "\n",
        "# menampilkan hasil\n",
        "print(\"Bilangan yang lebih besar adalah:\", bilangan_lebih_besar)"
      ],
      "execution_count": null,
      "outputs": [
        {
          "output_type": "stream",
          "text": [
            "Masukkan bilangan pertama: 23\n",
            "Masukkan bilangan kedua: 45\n",
            "Bilangan yang lebih besar adalah: 45\n"
          ],
          "name": "stdout"
        }
      ]
    },
    {
      "cell_type": "markdown",
      "metadata": {
        "id": "g-stdCvxdgpH"
      },
      "source": [
        "**Projek 1**\n",
        "\n",
        "Program mengecek Bilangan bulat atau ganjil"
      ]
    },
    {
      "cell_type": "code",
      "metadata": {
        "id": "_Bk5uBSjdnkj",
        "colab": {
          "base_uri": "https://localhost:8080/"
        },
        "outputId": "24850945-80a8-47b4-db6c-75a241f426e5"
      },
      "source": [
        "#Buat programmu di sini\n",
        "#Input bilangan integer\n",
        "#Cek ganjil atau bukan\n",
        "\n",
        "print(\"Program Mengecek bilangan bulat atau ganjil :)\")\n",
        "print(\"\")\n",
        "print()\n",
        "a = int(input(\"Masukkan satu angka: \"))\n",
        "\n",
        "if a%2!=0:\n",
        "  print(str(a) + \" : bilangan ganjil\")\n",
        "else:\n",
        "  print(str(a) + \" : bilangan genap\")\n",
        "  \n",
        "\n",
        "\n"
      ],
      "execution_count": 12,
      "outputs": [
        {
          "output_type": "stream",
          "text": [
            "Program Mengecek bilangan bulat atau ganjil :)\n",
            "\n",
            "\n",
            "Masukkan satu angka: 9\n",
            "9 : bilangan ganjil\n"
          ],
          "name": "stdout"
        }
      ]
    },
    {
      "cell_type": "markdown",
      "metadata": {
        "id": "IsMv4i_Otuny"
      },
      "source": [
        "# **Looping/Perulangan**\n",
        "\n",
        "Python menyediakan dua statement untuk melakukan proses perulangan yaitu for dan while. Diantara kedua statement ini, secara umum for lebih banyak digunakan daripada while. \n",
        "\n",
        "**Statement while**\n",
        "\n",
        "Sama seperti kebanyakan bahasa pemrograman lainnya, Python juga mendukung statement while untuk melakukan perulangan satu atau sekelompok statement. Bentuk umum dari perulangan while adalah sebagai berikut : \n",
        "\n",
        "```python\n",
        "while kondisi:\n",
        "    statement1\n",
        "    statement2\n",
        "    statement1\n",
        "    :\n",
        "    :\n",
        "    statementn\n",
        "```\n",
        "Pada bentuk perulangan diatas, statement1, statement2 dan seterusnya merupakan sekelompok statement yang akan diulang. Statement tersebut akan terus dieksekusi/ diulang selama kondisi bernilai True. Maka diperlukan sebuah statement yang akan bernilai False, agar proses dapat berhenti. Perhatikan syntax berikut : \n"
      ]
    },
    {
      "cell_type": "code",
      "metadata": {
        "id": "OIKMcBigtxn6",
        "colab": {
          "base_uri": "https://localhost:8080/"
        },
        "outputId": "94efee86-1366-4aa4-932f-74c46cf7cb66"
      },
      "source": [
        "i = 1\n",
        "while i<10:\n",
        "    print(i**2) #simbol pangkat di python= **\n",
        "    i = i+2"
      ],
      "execution_count": 13,
      "outputs": [
        {
          "output_type": "stream",
          "text": [
            "1\n",
            "9\n",
            "25\n",
            "49\n",
            "81\n"
          ],
          "name": "stdout"
        }
      ]
    },
    {
      "cell_type": "markdown",
      "metadata": {
        "id": "uRS3JzUbe-az"
      },
      "source": [
        "Ketika i bernilai 10, maka proses akan terhenti karena nilai i = 10, maka proses akan berhenti .\n",
        "Perhatikan contoh dibawah ini:"
      ]
    },
    {
      "cell_type": "code",
      "metadata": {
        "id": "sujTtMTSe_9J",
        "colab": {
          "base_uri": "https://localhost:8080/",
          "height": 659
        },
        "outputId": "166d11cb-1faf-4cf4-d550-04769b039759"
      },
      "source": [
        "# Menentukan bilangan terbesar awal dalam program ini\n",
        "bilangan_terbesar = -999999999\n",
        "\n",
        "# masukkan bilangan pertama\n",
        "bilangan = int(input(\"Masukkan suatu bilangan atau ketikkan -1 untuk berhenti: \"))\n",
        "\n",
        "# jika bilangan tidak sama dengan -1 maka program berlanjut\n",
        "while bilangan != -1:\n",
        "    # mengecek apakah bilangan tersebut adalah bilangan terbesar\n",
        "    if bilangan > bilangan_terbesar:\n",
        "        # ya, perbaharui bilangan_terbesar\n",
        "        bilangan_terbesar = bilangan\n",
        "    # masukan bilangan selanjutnya\n",
        "    number = int(input(\"Masukkan suatu bilangan atau ketikkan -1 untuk berhenti: \"))\n",
        "\n",
        "# menampilkan bilangan terbesar\n",
        "print(\"Bilangan terbesar adalah:\", bilangan_terbesar)"
      ],
      "execution_count": 15,
      "outputs": [
        {
          "output_type": "stream",
          "text": [
            "Masukkan suatu bilangan atau ketikkan -1 untuk berhenti: 10\n",
            "Masukkan suatu bilangan atau ketikkan -1 untuk berhenti: 10\n",
            "Masukkan suatu bilangan atau ketikkan -1 untuk berhenti: -1\n",
            "Masukkan suatu bilangan atau ketikkan -1 untuk berhenti: -1\n",
            "Masukkan suatu bilangan atau ketikkan -1 untuk berhenti: 9\n",
            "Masukkan suatu bilangan atau ketikkan -1 untuk berhenti: 1\n",
            "Masukkan suatu bilangan atau ketikkan -1 untuk berhenti: -1\n"
          ],
          "name": "stdout"
        },
        {
          "output_type": "error",
          "ename": "KeyboardInterrupt",
          "evalue": "ignored",
          "traceback": [
            "\u001b[0;31m---------------------------------------------------------------------------\u001b[0m",
            "\u001b[0;31mKeyboardInterrupt\u001b[0m                         Traceback (most recent call last)",
            "\u001b[0;32m/usr/local/lib/python3.7/dist-packages/ipykernel/kernelbase.py\u001b[0m in \u001b[0;36m_input_request\u001b[0;34m(self, prompt, ident, parent, password)\u001b[0m\n\u001b[1;32m    728\u001b[0m             \u001b[0;32mtry\u001b[0m\u001b[0;34m:\u001b[0m\u001b[0;34m\u001b[0m\u001b[0;34m\u001b[0m\u001b[0m\n\u001b[0;32m--> 729\u001b[0;31m                 \u001b[0mident\u001b[0m\u001b[0;34m,\u001b[0m \u001b[0mreply\u001b[0m \u001b[0;34m=\u001b[0m \u001b[0mself\u001b[0m\u001b[0;34m.\u001b[0m\u001b[0msession\u001b[0m\u001b[0;34m.\u001b[0m\u001b[0mrecv\u001b[0m\u001b[0;34m(\u001b[0m\u001b[0mself\u001b[0m\u001b[0;34m.\u001b[0m\u001b[0mstdin_socket\u001b[0m\u001b[0;34m,\u001b[0m \u001b[0;36m0\u001b[0m\u001b[0;34m)\u001b[0m\u001b[0;34m\u001b[0m\u001b[0;34m\u001b[0m\u001b[0m\n\u001b[0m\u001b[1;32m    730\u001b[0m             \u001b[0;32mexcept\u001b[0m \u001b[0mException\u001b[0m\u001b[0;34m:\u001b[0m\u001b[0;34m\u001b[0m\u001b[0;34m\u001b[0m\u001b[0m\n",
            "\u001b[0;32m/usr/local/lib/python3.7/dist-packages/jupyter_client/session.py\u001b[0m in \u001b[0;36mrecv\u001b[0;34m(self, socket, mode, content, copy)\u001b[0m\n\u001b[1;32m    802\u001b[0m         \u001b[0;32mtry\u001b[0m\u001b[0;34m:\u001b[0m\u001b[0;34m\u001b[0m\u001b[0;34m\u001b[0m\u001b[0m\n\u001b[0;32m--> 803\u001b[0;31m             \u001b[0mmsg_list\u001b[0m \u001b[0;34m=\u001b[0m \u001b[0msocket\u001b[0m\u001b[0;34m.\u001b[0m\u001b[0mrecv_multipart\u001b[0m\u001b[0;34m(\u001b[0m\u001b[0mmode\u001b[0m\u001b[0;34m,\u001b[0m \u001b[0mcopy\u001b[0m\u001b[0;34m=\u001b[0m\u001b[0mcopy\u001b[0m\u001b[0;34m)\u001b[0m\u001b[0;34m\u001b[0m\u001b[0;34m\u001b[0m\u001b[0m\n\u001b[0m\u001b[1;32m    804\u001b[0m         \u001b[0;32mexcept\u001b[0m \u001b[0mzmq\u001b[0m\u001b[0;34m.\u001b[0m\u001b[0mZMQError\u001b[0m \u001b[0;32mas\u001b[0m \u001b[0me\u001b[0m\u001b[0;34m:\u001b[0m\u001b[0;34m\u001b[0m\u001b[0;34m\u001b[0m\u001b[0m\n",
            "\u001b[0;32m/usr/local/lib/python3.7/dist-packages/zmq/sugar/socket.py\u001b[0m in \u001b[0;36mrecv_multipart\u001b[0;34m(self, flags, copy, track)\u001b[0m\n\u001b[1;32m    582\u001b[0m         \"\"\"\n\u001b[0;32m--> 583\u001b[0;31m         \u001b[0mparts\u001b[0m \u001b[0;34m=\u001b[0m \u001b[0;34m[\u001b[0m\u001b[0mself\u001b[0m\u001b[0;34m.\u001b[0m\u001b[0mrecv\u001b[0m\u001b[0;34m(\u001b[0m\u001b[0mflags\u001b[0m\u001b[0;34m,\u001b[0m \u001b[0mcopy\u001b[0m\u001b[0;34m=\u001b[0m\u001b[0mcopy\u001b[0m\u001b[0;34m,\u001b[0m \u001b[0mtrack\u001b[0m\u001b[0;34m=\u001b[0m\u001b[0mtrack\u001b[0m\u001b[0;34m)\u001b[0m\u001b[0;34m]\u001b[0m\u001b[0;34m\u001b[0m\u001b[0;34m\u001b[0m\u001b[0m\n\u001b[0m\u001b[1;32m    584\u001b[0m         \u001b[0;31m# have first part already, only loop while more to receive\u001b[0m\u001b[0;34m\u001b[0m\u001b[0;34m\u001b[0m\u001b[0;34m\u001b[0m\u001b[0m\n",
            "\u001b[0;32mzmq/backend/cython/socket.pyx\u001b[0m in \u001b[0;36mzmq.backend.cython.socket.Socket.recv\u001b[0;34m()\u001b[0m\n",
            "\u001b[0;32mzmq/backend/cython/socket.pyx\u001b[0m in \u001b[0;36mzmq.backend.cython.socket.Socket.recv\u001b[0;34m()\u001b[0m\n",
            "\u001b[0;32mzmq/backend/cython/socket.pyx\u001b[0m in \u001b[0;36mzmq.backend.cython.socket._recv_copy\u001b[0;34m()\u001b[0m\n",
            "\u001b[0;32m/usr/local/lib/python3.7/dist-packages/zmq/backend/cython/checkrc.pxd\u001b[0m in \u001b[0;36mzmq.backend.cython.checkrc._check_rc\u001b[0;34m()\u001b[0m\n",
            "\u001b[0;31mKeyboardInterrupt\u001b[0m: ",
            "\nDuring handling of the above exception, another exception occurred:\n",
            "\u001b[0;31mKeyboardInterrupt\u001b[0m                         Traceback (most recent call last)",
            "\u001b[0;32m<ipython-input-15-4d737bcb1d21>\u001b[0m in \u001b[0;36m<module>\u001b[0;34m()\u001b[0m\n\u001b[1;32m     12\u001b[0m         \u001b[0mbilangan_terbesar\u001b[0m \u001b[0;34m=\u001b[0m \u001b[0mbilangan\u001b[0m\u001b[0;34m\u001b[0m\u001b[0;34m\u001b[0m\u001b[0m\n\u001b[1;32m     13\u001b[0m     \u001b[0;31m# masukan bilangan selanjutnya\u001b[0m\u001b[0;34m\u001b[0m\u001b[0;34m\u001b[0m\u001b[0;34m\u001b[0m\u001b[0m\n\u001b[0;32m---> 14\u001b[0;31m     \u001b[0mnumber\u001b[0m \u001b[0;34m=\u001b[0m \u001b[0mint\u001b[0m\u001b[0;34m(\u001b[0m\u001b[0minput\u001b[0m\u001b[0;34m(\u001b[0m\u001b[0;34m\"Masukkan suatu bilangan atau ketikkan -1 untuk berhenti: \"\u001b[0m\u001b[0;34m)\u001b[0m\u001b[0;34m)\u001b[0m\u001b[0;34m\u001b[0m\u001b[0;34m\u001b[0m\u001b[0m\n\u001b[0m\u001b[1;32m     15\u001b[0m \u001b[0;34m\u001b[0m\u001b[0m\n\u001b[1;32m     16\u001b[0m \u001b[0;31m# menampilkan bilangan terbesar\u001b[0m\u001b[0;34m\u001b[0m\u001b[0;34m\u001b[0m\u001b[0;34m\u001b[0m\u001b[0m\n",
            "\u001b[0;32m/usr/local/lib/python3.7/dist-packages/ipykernel/kernelbase.py\u001b[0m in \u001b[0;36mraw_input\u001b[0;34m(self, prompt)\u001b[0m\n\u001b[1;32m    702\u001b[0m             \u001b[0mself\u001b[0m\u001b[0;34m.\u001b[0m\u001b[0m_parent_ident\u001b[0m\u001b[0;34m,\u001b[0m\u001b[0;34m\u001b[0m\u001b[0;34m\u001b[0m\u001b[0m\n\u001b[1;32m    703\u001b[0m             \u001b[0mself\u001b[0m\u001b[0;34m.\u001b[0m\u001b[0m_parent_header\u001b[0m\u001b[0;34m,\u001b[0m\u001b[0;34m\u001b[0m\u001b[0;34m\u001b[0m\u001b[0m\n\u001b[0;32m--> 704\u001b[0;31m             \u001b[0mpassword\u001b[0m\u001b[0;34m=\u001b[0m\u001b[0;32mFalse\u001b[0m\u001b[0;34m,\u001b[0m\u001b[0;34m\u001b[0m\u001b[0;34m\u001b[0m\u001b[0m\n\u001b[0m\u001b[1;32m    705\u001b[0m         )\n\u001b[1;32m    706\u001b[0m \u001b[0;34m\u001b[0m\u001b[0m\n",
            "\u001b[0;32m/usr/local/lib/python3.7/dist-packages/ipykernel/kernelbase.py\u001b[0m in \u001b[0;36m_input_request\u001b[0;34m(self, prompt, ident, parent, password)\u001b[0m\n\u001b[1;32m    732\u001b[0m             \u001b[0;32mexcept\u001b[0m \u001b[0mKeyboardInterrupt\u001b[0m\u001b[0;34m:\u001b[0m\u001b[0;34m\u001b[0m\u001b[0;34m\u001b[0m\u001b[0m\n\u001b[1;32m    733\u001b[0m                 \u001b[0;31m# re-raise KeyboardInterrupt, to truncate traceback\u001b[0m\u001b[0;34m\u001b[0m\u001b[0;34m\u001b[0m\u001b[0;34m\u001b[0m\u001b[0m\n\u001b[0;32m--> 734\u001b[0;31m                 \u001b[0;32mraise\u001b[0m \u001b[0mKeyboardInterrupt\u001b[0m\u001b[0;34m\u001b[0m\u001b[0;34m\u001b[0m\u001b[0m\n\u001b[0m\u001b[1;32m    735\u001b[0m             \u001b[0;32melse\u001b[0m\u001b[0;34m:\u001b[0m\u001b[0;34m\u001b[0m\u001b[0;34m\u001b[0m\u001b[0m\n\u001b[1;32m    736\u001b[0m                 \u001b[0;32mbreak\u001b[0m\u001b[0;34m\u001b[0m\u001b[0;34m\u001b[0m\u001b[0m\n",
            "\u001b[0;31mKeyboardInterrupt\u001b[0m: "
          ]
        }
      ]
    },
    {
      "cell_type": "code",
      "metadata": {
        "colab": {
          "base_uri": "https://localhost:8080/"
        },
        "id": "jEzFJ2sVXEYt",
        "outputId": "11c46639-22ee-46d9-88fc-472723f6d7a0"
      },
      "source": [
        "x = 1\n",
        "y = 2\n",
        "x + y*9"
      ],
      "execution_count": 16,
      "outputs": [
        {
          "output_type": "execute_result",
          "data": {
            "text/plain": [
              "19"
            ]
          },
          "metadata": {
            "tags": []
          },
          "execution_count": 16
        }
      ]
    }
  ]
}